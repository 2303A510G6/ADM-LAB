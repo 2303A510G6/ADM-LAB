{
  "nbformat": 4,
  "nbformat_minor": 0,
  "metadata": {
    "colab": {
      "provenance": [],
      "authorship_tag": "ABX9TyOwUJPQio8mbL5CrUY43Jw6",
      "include_colab_link": true
    },
    "kernelspec": {
      "name": "python3",
      "display_name": "Python 3"
    },
    "language_info": {
      "name": "python"
    }
  },
  "cells": [
    {
      "cell_type": "markdown",
      "metadata": {
        "id": "view-in-github",
        "colab_type": "text"
      },
      "source": [
        "<a href=\"https://colab.research.google.com/github/2303A510G6/ADM-LAB/blob/main/ADM_LAB_03.ipynb\" target=\"_parent\"><img src=\"https://colab.research.google.com/assets/colab-badge.svg\" alt=\"Open In Colab\"/></a>"
      ]
    },
    {
      "cell_type": "code",
      "execution_count": null,
      "metadata": {
        "id": "Z6mPVwHuWiXN"
      },
      "outputs": [],
      "source": [
        "import pandas as pd"
      ]
    },
    {
      "cell_type": "code",
      "source": [
        "file_path = '/content/diabetes_young_adults_india.csv'\n",
        "data = pd.read_csv(file_path)"
      ],
      "metadata": {
        "id": "ZCKK_ZdSZ4PP"
      },
      "execution_count": null,
      "outputs": []
    },
    {
      "cell_type": "code",
      "source": [
        "print(\"Summary Statistics:\")\n",
        "print(data.describe())"
      ],
      "metadata": {
        "colab": {
          "base_uri": "https://localhost:8080/"
        },
        "id": "wN868IVwagCQ",
        "outputId": "170979e3-65e4-4d16-d64d-c61f123a6c95"
      },
      "execution_count": null,
      "outputs": [
        {
          "output_type": "stream",
          "name": "stdout",
          "text": [
            "Summary Statistics:\n",
            "                 ID           Age  Family_Income  Genetic_Risk_Score  \\\n",
            "count  78521.000000  78521.000000   7.852000e+04        78520.000000   \n",
            "mean   39261.000000     20.000217   1.299895e+06            5.504648   \n",
            "std    22667.204581      3.151488   6.917887e+05            2.872034   \n",
            "min        1.000000     15.000000   1.000040e+05            1.000000   \n",
            "25%    19631.000000     17.000000   7.024512e+05            3.000000   \n",
            "50%    39261.000000     20.000000   1.301802e+06            6.000000   \n",
            "75%    58891.000000     23.000000   1.899187e+06            8.000000   \n",
            "max    78521.000000     25.000000   2.499974e+06           10.000000   \n",
            "\n",
            "                BMI  Fast_Food_Intake  Fasting_Blood_Sugar         HbA1c  \\\n",
            "count  78520.000000      78520.000000         78520.000000  78520.000000   \n",
            "mean      28.004229          4.994384           125.109366      7.005614   \n",
            "std        6.929062          3.165571            31.770200      1.732091   \n",
            "min       16.000000          0.000000            70.000000      4.000000   \n",
            "25%       22.000000          2.000000            97.600000      5.500000   \n",
            "50%       28.000000          5.000000           125.250000      7.000000   \n",
            "75%       34.000000          8.000000           152.600000      8.500000   \n",
            "max       40.000000         10.000000           180.000000     10.000000   \n",
            "\n",
            "       Cholesterol_Level   Sleep_Hours  Stress_Level   Screen_Time  \n",
            "count       78520.000000  78520.000000  78520.000000  78520.000000  \n",
            "mean          209.976735      6.990359      5.501898      6.504184  \n",
            "std            52.080672      1.732235      2.880141      3.165502  \n",
            "min           120.000000      4.000000      1.000000      1.000000  \n",
            "25%           164.900000      5.500000      3.000000      3.800000  \n",
            "50%           209.800000      7.000000      6.000000      6.500000  \n",
            "75%           255.100000      8.500000      8.000000      9.200000  \n",
            "max           300.000000     10.000000     10.000000     12.000000  \n"
          ]
        }
      ]
    },
    {
      "cell_type": "code",
      "source": [
        "import pandas as pd\n",
        "correlation_matrix = data.select_dtypes(include=['number']).corr()  # Select only numeric columns\n",
        "print(\"\\nCorrelation Matrix:\")\n",
        "print(correlation_matrix)"
      ],
      "metadata": {
        "colab": {
          "base_uri": "https://localhost:8080/"
        },
        "id": "icq7pB-HajqU",
        "outputId": "92e23b64-a4a5-4ee0-a47e-0a83d725769d"
      },
      "execution_count": null,
      "outputs": [
        {
          "output_type": "stream",
          "name": "stdout",
          "text": [
            "\n",
            "Correlation Matrix:\n",
            "                           ID       Age  Family_Income  Genetic_Risk_Score  \\\n",
            "ID                   1.000000  0.001547      -0.003758            0.002839   \n",
            "Age                  0.001547  1.000000      -0.003842            0.001584   \n",
            "Family_Income       -0.003758 -0.003842       1.000000           -0.012139   \n",
            "Genetic_Risk_Score   0.002839  0.001584      -0.012139            1.000000   \n",
            "BMI                  0.003883  0.001405       0.004785            0.002901   \n",
            "Fast_Food_Intake    -0.003319  0.006495       0.006610           -0.000977   \n",
            "Fasting_Blood_Sugar  0.004044 -0.001875      -0.000459           -0.000391   \n",
            "HbA1c               -0.000310  0.005805      -0.002147           -0.002023   \n",
            "Cholesterol_Level    0.001418 -0.001453      -0.000550            0.005255   \n",
            "Sleep_Hours          0.005184  0.000194       0.004053            0.000021   \n",
            "Stress_Level         0.000213  0.006121      -0.002780            0.001412   \n",
            "Screen_Time          0.000370  0.000379      -0.000989            0.001749   \n",
            "\n",
            "                          BMI  Fast_Food_Intake  Fasting_Blood_Sugar  \\\n",
            "ID                   0.003883         -0.003319             0.004044   \n",
            "Age                  0.001405          0.006495            -0.001875   \n",
            "Family_Income        0.004785          0.006610            -0.000459   \n",
            "Genetic_Risk_Score   0.002901         -0.000977            -0.000391   \n",
            "BMI                  1.000000         -0.001016             0.000720   \n",
            "Fast_Food_Intake    -0.001016          1.000000             0.001671   \n",
            "Fasting_Blood_Sugar  0.000720          0.001671             1.000000   \n",
            "HbA1c                0.005637          0.001514            -0.000923   \n",
            "Cholesterol_Level   -0.004478          0.001523             0.000946   \n",
            "Sleep_Hours         -0.004771         -0.010578            -0.004138   \n",
            "Stress_Level        -0.003406         -0.002191            -0.004325   \n",
            "Screen_Time         -0.003969         -0.002483             0.001350   \n",
            "\n",
            "                        HbA1c  Cholesterol_Level  Sleep_Hours  Stress_Level  \\\n",
            "ID                  -0.000310           0.001418     0.005184      0.000213   \n",
            "Age                  0.005805          -0.001453     0.000194      0.006121   \n",
            "Family_Income       -0.002147          -0.000550     0.004053     -0.002780   \n",
            "Genetic_Risk_Score  -0.002023           0.005255     0.000021      0.001412   \n",
            "BMI                  0.005637          -0.004478    -0.004771     -0.003406   \n",
            "Fast_Food_Intake     0.001514           0.001523    -0.010578     -0.002191   \n",
            "Fasting_Blood_Sugar -0.000923           0.000946    -0.004138     -0.004325   \n",
            "HbA1c                1.000000          -0.002833    -0.005051      0.000854   \n",
            "Cholesterol_Level   -0.002833           1.000000     0.001930     -0.007867   \n",
            "Sleep_Hours         -0.005051           0.001930     1.000000     -0.001331   \n",
            "Stress_Level         0.000854          -0.007867    -0.001331      1.000000   \n",
            "Screen_Time          0.002227           0.004261     0.003320      0.001891   \n",
            "\n",
            "                     Screen_Time  \n",
            "ID                      0.000370  \n",
            "Age                     0.000379  \n",
            "Family_Income          -0.000989  \n",
            "Genetic_Risk_Score      0.001749  \n",
            "BMI                    -0.003969  \n",
            "Fast_Food_Intake       -0.002483  \n",
            "Fasting_Blood_Sugar     0.001350  \n",
            "HbA1c                   0.002227  \n",
            "Cholesterol_Level       0.004261  \n",
            "Sleep_Hours             0.003320  \n",
            "Stress_Level            0.001891  \n",
            "Screen_Time             1.000000  \n"
          ]
        }
      ]
    },
    {
      "cell_type": "code",
      "source": [
        "bmi_distribution = data['BMI'].describe()\n",
        "print(\"\\nDistribution of BMI:\")\n",
        "print(bmi_distribution)"
      ],
      "metadata": {
        "colab": {
          "base_uri": "https://localhost:8080/"
        },
        "id": "4dMsCf4eapEz",
        "outputId": "c9b057b3-6703-4023-b7f5-eeebaecbaf6a"
      },
      "execution_count": null,
      "outputs": [
        {
          "output_type": "stream",
          "name": "stdout",
          "text": [
            "\n",
            "Distribution of BMI:\n",
            "count    78520.000000\n",
            "mean        28.004229\n",
            "std          6.929062\n",
            "min         16.000000\n",
            "25%         22.000000\n",
            "50%         28.000000\n",
            "75%         34.000000\n",
            "max         40.000000\n",
            "Name: BMI, dtype: float64\n"
          ]
        }
      ]
    },
    {
      "cell_type": "code",
      "source": [
        "fasting_blood_sugar_stats = data.groupby('Diabetes_Type')['Fasting_Blood_Sugar'].describe()\n",
        "print(\"\\nFasting Blood Sugar by Diabetes Type:\")\n",
        "print(fasting_blood_sugar_stats)"
      ],
      "metadata": {
        "colab": {
          "base_uri": "https://localhost:8080/"
        },
        "id": "hYIFAyXiauw-",
        "outputId": "88a1e23a-25d7-44b0-a18b-20308e1c24d5"
      },
      "execution_count": null,
      "outputs": [
        {
          "output_type": "stream",
          "name": "stdout",
          "text": [
            "\n",
            "Fasting Blood Sugar by Diabetes Type:\n",
            "                 count        mean        std   min     25%     50%    75%  \\\n",
            "Diabetes_Type                                                                \n",
            "Type 1          3838.0  125.513366  31.699225  70.0  97.625  125.85  153.5   \n",
            "Type 2         15990.0  124.721570  31.907008  70.0  97.000  124.70  152.5   \n",
            "\n",
            "                 max  \n",
            "Diabetes_Type         \n",
            "Type 1         180.0  \n",
            "Type 2         180.0  \n"
          ]
        }
      ]
    },
    {
      "cell_type": "code",
      "source": [
        "q1 = data['HbA1c'].quantile(0.25)\n",
        "q3 = data['HbA1c'].quantile(0.75)\n",
        "iqr = q3 - q1\n",
        "q1 = data['HbA1c'].quantile(0.25)\n",
        "q3 = data['HbA1c'].quantile(0.75)\n",
        "iqr = q3 - q1\n",
        "outliers = data[(data['HbA1c'] < (q1 - 1.5 * iqr)) | (data['HbA1c'] > (q3 + 1.5 * iqr))]\n",
        "print(\"\\nOutliers in HbA1c:\")\n",
        "print(outliers[['ID', 'HbA1c']])"
      ],
      "metadata": {
        "colab": {
          "base_uri": "https://localhost:8080/"
        },
        "id": "CVE0wPCsbNor",
        "outputId": "162785da-9e31-46a5-f67c-bb8a84df325b"
      },
      "execution_count": null,
      "outputs": [
        {
          "output_type": "stream",
          "name": "stdout",
          "text": [
            "\n",
            "Outliers in HbA1c:\n",
            "Empty DataFrame\n",
            "Columns: [ID, HbA1c]\n",
            "Index: []\n"
          ]
        }
      ]
    },
    {
      "cell_type": "code",
      "source": [
        "physical_activity_counts = data['Physical_Activity_Level'].value_counts()\n",
        "print(\"\\nPhysical Activity Level Distribution:\")\n",
        "print(physical_activity_counts)"
      ],
      "metadata": {
        "colab": {
          "base_uri": "https://localhost:8080/"
        },
        "id": "RNK97vPsbfuE",
        "outputId": "7a499a5c-e43c-4589-93b8-907808ad7595"
      },
      "execution_count": null,
      "outputs": [
        {
          "output_type": "stream",
          "name": "stdout",
          "text": [
            "\n",
            "Physical Activity Level Distribution:\n",
            "Physical_Activity_Level\n",
            "Sedentary    39334\n",
            "Moderate     23494\n",
            "Active       15692\n",
            "Name: count, dtype: int64\n"
          ]
        }
      ]
    },
    {
      "cell_type": "code",
      "source": [
        "selected_features = ['BMI', 'Fasting_Blood_Sugar', 'HbA1c', 'Cholesterol_Level', 'Genetic_Risk_Score']\n",
        "feature_correlations = data[selected_features].corr()\n",
        "print(\"\\nPairwise Correlations for Selected Features:\")\n",
        "print(feature_correlations)"
      ],
      "metadata": {
        "colab": {
          "base_uri": "https://localhost:8080/"
        },
        "id": "JdYXu0PJbmy3",
        "outputId": "e6df3fe3-7ddc-4b4f-ef66-28e060010c6b"
      },
      "execution_count": null,
      "outputs": [
        {
          "output_type": "stream",
          "name": "stdout",
          "text": [
            "\n",
            "Pairwise Correlations for Selected Features:\n",
            "                          BMI  Fasting_Blood_Sugar     HbA1c  \\\n",
            "BMI                  1.000000             0.000720  0.005637   \n",
            "Fasting_Blood_Sugar  0.000720             1.000000 -0.000923   \n",
            "HbA1c                0.005637            -0.000923  1.000000   \n",
            "Cholesterol_Level   -0.004478             0.000946 -0.002833   \n",
            "Genetic_Risk_Score   0.002901            -0.000391 -0.002023   \n",
            "\n",
            "                     Cholesterol_Level  Genetic_Risk_Score  \n",
            "BMI                          -0.004478            0.002901  \n",
            "Fasting_Blood_Sugar           0.000946           -0.000391  \n",
            "HbA1c                        -0.002833           -0.002023  \n",
            "Cholesterol_Level             1.000000            0.005255  \n",
            "Genetic_Risk_Score            0.005255            1.000000  \n"
          ]
        }
      ]
    }
  ]
}