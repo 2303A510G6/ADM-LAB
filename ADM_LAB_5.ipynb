{
  "nbformat": 4,
  "nbformat_minor": 0,
  "metadata": {
    "colab": {
      "provenance": [],
      "authorship_tag": "ABX9TyNWOhq25avfQDcETyD+8O3P",
      "include_colab_link": true
    },
    "kernelspec": {
      "name": "python3",
      "display_name": "Python 3"
    },
    "language_info": {
      "name": "python"
    }
  },
  "cells": [
    {
      "cell_type": "markdown",
      "metadata": {
        "id": "view-in-github",
        "colab_type": "text"
      },
      "source": [
        "<a href=\"https://colab.research.google.com/github/2303A510G6/ADM-LAB/blob/main/ADM_LAB_5.ipynb\" target=\"_parent\"><img src=\"https://colab.research.google.com/assets/colab-badge.svg\" alt=\"Open In Colab\"/></a>"
      ]
    },
    {
      "cell_type": "code",
      "execution_count": 1,
      "metadata": {
        "id": "UFa7gZ2thvrP"
      },
      "outputs": [],
      "source": [
        "from itertools import combinations\n",
        "from collections import defaultdict"
      ]
    },
    {
      "cell_type": "code",
      "source": [
        "def get_support(transactions, itemset):\n",
        "    \"\"\"Calculate the support of an itemset.\"\"\"\n",
        "    return sum(1 for transaction in transactions if itemset.issubset(transaction)) / len(transactions)"
      ],
      "metadata": {
        "id": "8ctFPgNgiPM2"
      },
      "execution_count": 2,
      "outputs": []
    },
    {
      "cell_type": "code",
      "source": [
        "def generate_frequent_itemsets(transactions, min_support):\n",
        "    \"\"\"Generate frequent itemsets using the Apriori algorithm.\"\"\"\n",
        "    itemsets = defaultdict(int)\n",
        "    for transaction in transactions:\n",
        "        for item in transaction:\n",
        "            itemsets[frozenset([item])] += 1\n",
        "\n",
        "    num_transactions = len(transactions)\n",
        "    current_frequent_itemsets = {itemset for itemset, count in itemsets.items() if count / num_transactions >= min_support}\n",
        "    all_frequent_itemsets = current_frequent_itemsets.copy()\n",
        "\n",
        "    k = 2\n",
        "    while current_frequent_itemsets:\n",
        "        candidate_itemsets = set()\n",
        "        for itemset1 in current_frequent_itemsets:\n",
        "            for itemset2 in current_frequent_itemsets:\n",
        "                union_set = itemset1 | itemset2\n",
        "                if len(union_set) == k:\n",
        "                    candidate_itemsets.add(union_set)\n",
        "\n",
        "        itemsets = defaultdict(int)\n",
        "        for transaction in transactions:\n",
        "            for itemset in candidate_itemsets:\n",
        "                if itemset.issubset(transaction):\n",
        "                    itemsets[itemset] += 1\n",
        "\n",
        "        current_frequent_itemsets = {itemset for itemset, count in itemsets.items() if count / num_transactions >= min_support}\n",
        "        all_frequent_itemsets |= current_frequent_itemsets\n",
        "        k += 1\n",
        "\n",
        "    return all_frequent_itemsets"
      ],
      "metadata": {
        "id": "_0zC6bK9ieyP"
      },
      "execution_count": 3,
      "outputs": []
    },
    {
      "cell_type": "code",
      "source": [
        "def generate_association_rules(frequent_itemsets, transactions, min_confidence):\n",
        "    \"\"\"Generate association rules from frequent itemsets.\"\"\"\n",
        "    rules = []\n",
        "    num_transactions = len(transactions)\n",
        "\n",
        "    for itemset in frequent_itemsets:\n",
        "        if len(itemset) < 2:\n",
        "            continue\n",
        "\n",
        "        itemset_support = get_support(transactions, itemset)\n",
        "        for i in range(1, len(itemset)):\n",
        "            for antecedent in combinations(itemset, i):\n",
        "                antecedent = frozenset(antecedent)\n",
        "                consequent = itemset - antecedent\n",
        "                antecedent_support = get_support(transactions, antecedent)\n",
        "                confidence = itemset_support / antecedent_support if antecedent_support > 0 else 0\n",
        "\n",
        "                if confidence >= min_confidence:\n",
        "                    consequent_support = get_support(transactions, consequent)\n",
        "                    lift = confidence / consequent_support if consequent_support > 0 else 0\n",
        "                    rules.append((antecedent, consequent, itemset_support, confidence, lift))\n",
        "\n",
        "    return rules"
      ],
      "metadata": {
        "id": "Jzenx1n0ihfu"
      },
      "execution_count": 4,
      "outputs": []
    },
    {
      "source": [
        "def main():\n",
        "    transactions = [\n",
        "        {'milk', 'bread', 'butter'},\n",
        "        {'milk', 'bread'},\n",
        "        {'milk', 'butter'},\n",
        "        {'bread', 'butter'},\n",
        "        {'milk', 'bread', 'butter', 'cheese'},\n",
        "        {'bread', 'butter'}\n",
        "    ]\n",
        "\n",
        "    min_support = 0.5  # Minimum support threshold\n",
        "    min_confidence = 0.7  # Minimum confidence threshold\n",
        "\n",
        "    frequent_itemsets = generate_frequent_itemsets(transactions, min_support)\n",
        "    rules = generate_association_rules(frequent_itemsets, transactions, min_confidence)\n",
        "\n",
        "    print(\"Frequent Itemsets:\")\n",
        "    for itemset in frequent_itemsets:\n",
        "        print(itemset)\n",
        "\n",
        "    print(\"\\nAssociation Rules:\")\n",
        "    for antecedent, consequent, support, confidence, lift in rules:\n",
        "        print(f\"{set(antecedent)} -> {set(consequent)} | Support: {support:.2f}, Confidence: {confidence:.2f}, Lift: {lift:.2f}\")\n",
        "\n",
        "# Change '_name_' to '__name__'\n",
        "if __name__ == \"__main__\": # using the correct special variable __name__\n",
        "    main()"
      ],
      "cell_type": "code",
      "metadata": {
        "colab": {
          "base_uri": "https://localhost:8080/"
        },
        "id": "Qcmt7kNji0ob",
        "outputId": "3f974c6c-db67-4619-e230-513ca1aed224"
      },
      "execution_count": 6,
      "outputs": [
        {
          "output_type": "stream",
          "name": "stdout",
          "text": [
            "Frequent Itemsets:\n",
            "frozenset({'butter', 'bread'})\n",
            "frozenset({'milk'})\n",
            "frozenset({'milk', 'bread'})\n",
            "frozenset({'butter'})\n",
            "frozenset({'bread'})\n",
            "frozenset({'milk', 'butter'})\n",
            "\n",
            "Association Rules:\n",
            "{'butter'} -> {'bread'} | Support: 0.67, Confidence: 0.80, Lift: 0.96\n",
            "{'bread'} -> {'butter'} | Support: 0.67, Confidence: 0.80, Lift: 0.96\n",
            "{'milk'} -> {'bread'} | Support: 0.50, Confidence: 0.75, Lift: 0.90\n",
            "{'milk'} -> {'butter'} | Support: 0.50, Confidence: 0.75, Lift: 0.90\n"
          ]
        }
      ]
    }
  ]
}